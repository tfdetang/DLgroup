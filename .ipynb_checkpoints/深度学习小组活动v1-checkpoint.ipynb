{
 "cells": [
  {
   "cell_type": "markdown",
   "metadata": {
    "slideshow": {
     "slide_type": "slide"
    }
   },
   "source": [
    "# 议题\n",
    "\n",
    "- \"人工智能\"能做什么？\n",
    "\n",
    "- 怎么学习\"人工智能\"？\n",
    "\n",
    "- 他是如何工作的?\n",
    "\n",
    "- 几个简单的范例"
   ]
  },
  {
   "cell_type": "markdown",
   "metadata": {
    "ExecuteTime": {
     "end_time": "2019-01-01T02:13:01.591525Z",
     "start_time": "2019-01-01T02:13:01.552522Z"
    },
    "slideshow": {
     "slide_type": "slide"
    }
   },
   "source": [
    "人工智能？ 机器学习？ 深度学习？\n",
    "![](img/twitter.png)"
   ]
  },
  {
   "cell_type": "markdown",
   "metadata": {
    "slideshow": {
     "slide_type": "slide"
    }
   },
   "source": [
    "机器学习是实现人工智能的一种方法，而深度学习是机器学习中的一种技术；\n",
    "![](img/aimldl.png)"
   ]
  },
  {
   "cell_type": "markdown",
   "metadata": {
    "slideshow": {
     "slide_type": "slide"
    }
   },
   "source": [
    "## 监督学习\n",
    "\n",
    "![](img/supervised.png)\n",
    "\n",
    "从**有标记**的训练数据中推导出预测函数。有标记的训练数据是指每个训练实例都包括输入和期望的输出。简单的说，用我们**已经知道答案**的数据进行学习与训练；"
   ]
  },
  {
   "cell_type": "markdown",
   "metadata": {
    "slideshow": {
     "slide_type": "slide"
    }
   },
   "source": [
    "在机器学习领域中，我们通常把输入称为`数据`，答案称为`标签`\n",
    "![](img/label.jpg)"
   ]
  },
  {
   "cell_type": "markdown",
   "metadata": {
    "slideshow": {
     "slide_type": "slide"
    }
   },
   "source": [
    "对于监督学习，拥有多样化高质量的数据是最大的挑战\n",
    "![](img/cat.jpg)"
   ]
  },
  {
   "cell_type": "markdown",
   "metadata": {
    "slideshow": {
     "slide_type": "slide"
    }
   },
   "source": [
    "ImageNet有超过150万标注图像数据约2万多个分类\n",
    "![](img/imagenet.png)"
   ]
  },
  {
   "cell_type": "code",
   "execution_count": 1,
   "metadata": {
    "ExecuteTime": {
     "end_time": "2019-03-21T03:25:35.630699Z",
     "start_time": "2019-03-21T03:25:35.620700Z"
    },
    "slideshow": {
     "slide_type": "slide"
    }
   },
   "outputs": [
    {
     "data": {
      "text/html": [
       "<video width=\"600\" height=\"400\" controls> <source src=\"img/YOLOv3.mp4\" type=\"video/mp4\"></video>\n"
      ],
      "text/plain": [
       "<IPython.core.display.HTML object>"
      ]
     },
     "metadata": {},
     "output_type": "display_data"
    }
   ],
   "source": [
    "%%HTML\n",
    "<video width=\"600\" height=\"400\" controls> <source src=\"img/YOLOv3.mp4\" type=\"video/mp4\"></video>"
   ]
  },
  {
   "cell_type": "markdown",
   "metadata": {
    "slideshow": {
     "slide_type": "slide"
    }
   },
   "source": [
    "## 无监督学习\n",
    "\n",
    "![](img/unsupervised.png)\n",
    "从**无标记**的训练数据中推断结论。用于发现隐藏的模式或者对数据进行分组。简单的说：给定数据，寻找隐藏的结构"
   ]
  },
  {
   "cell_type": "markdown",
   "metadata": {
    "slideshow": {
     "slide_type": "slide"
    }
   },
   "source": [
    "### Word Embedding(词嵌入向量)\n",
    "\n",
    "![](img/one-hot.png)"
   ]
  },
  {
   "cell_type": "markdown",
   "metadata": {
    "slideshow": {
     "slide_type": "slide"
    }
   },
   "source": [
    "wiki:\n",
    "\n",
    "猫，通常指家猫，在现代汉语中也昵称猫咪、咪咪、喵星人.......现在，`猫`成为世界上最为广泛的**宠物**之一\n",
    "\n",
    "犬，现代俗称为狗，一种常见的犬科哺乳动物.............`狗`可用作陪伴、警用、军用、做**宠物**\n",
    "\n",
    "\n",
    "![](img/wordspace.png)"
   ]
  },
  {
   "cell_type": "markdown",
   "metadata": {
    "ExecuteTime": {
     "end_time": "2019-01-01T07:56:21.495685Z",
     "start_time": "2019-01-01T07:56:21.469680Z"
    },
    "slideshow": {
     "slide_type": "slide"
    }
   },
   "source": [
    "![](img/wordcal.png)"
   ]
  },
  {
   "cell_type": "markdown",
   "metadata": {
    "slideshow": {
     "slide_type": "slide"
    }
   },
   "source": [
    "### 万物皆可embedding\n",
    "\n",
    "基于电商浏览记录、抖音视频观看记录、搜索记录构建上下文，并进行向量嵌入计算\n",
    "![](img/commodityembedding.png)"
   ]
  },
  {
   "cell_type": "markdown",
   "metadata": {
    "slideshow": {
     "slide_type": "slide"
    }
   },
   "source": [
    "## 对抗生成网络(GAN)\n",
    "\n",
    "![](img/GAN.png)"
   ]
  },
  {
   "cell_type": "markdown",
   "metadata": {
    "slideshow": {
     "slide_type": "slide"
    }
   },
   "source": [
    "![](img/celeA.png)"
   ]
  },
  {
   "cell_type": "markdown",
   "metadata": {
    "slideshow": {
     "slide_type": "slide"
    }
   },
   "source": [
    "你能辨别出下图中哪些是真人哪些是GAN生成的照片吗？\n",
    "![](img/ganface.jpg)"
   ]
  },
  {
   "cell_type": "markdown",
   "metadata": {
    "slideshow": {
     "slide_type": "slide"
    }
   },
   "source": [
    "## 强化学习\n",
    "\n",
    "![](img/rl.png)\n",
    "\n",
    "强化学习，强调让程序学习如何基于环境而行动，以取得最大化的预期利益。"
   ]
  },
  {
   "cell_type": "markdown",
   "metadata": {
    "slideshow": {
     "slide_type": "slide"
    }
   },
   "source": [
    "电脑通过自我博弈学会了 补刀、勾兵、卡兵等操作"
   ]
  },
  {
   "cell_type": "code",
   "execution_count": 2,
   "metadata": {
    "ExecuteTime": {
     "end_time": "2019-03-21T03:30:51.466695Z",
     "start_time": "2019-03-21T03:30:51.461684Z"
    }
   },
   "outputs": [
    {
     "data": {
      "text/html": [
       "<video width=\"600\" height=\"400\" controls> <source src=\"img/dota2.mp4\" type=\"video/mp4\"></video>\n"
      ],
      "text/plain": [
       "<IPython.core.display.HTML object>"
      ]
     },
     "metadata": {},
     "output_type": "display_data"
    }
   ],
   "source": [
    "%%HTML\n",
    "<video width=\"600\" height=\"400\" controls> <source src=\"img/dota2.mp4\" type=\"video/mp4\"></video>"
   ]
  },
  {
   "cell_type": "markdown",
   "metadata": {
    "slideshow": {
     "slide_type": "slide"
    }
   },
   "source": [
    "# 机器学习的边界\n",
    "\n",
    "机器学习目前三大方向\n",
    "\n",
    "- 计算机视觉\n",
    "- 语音识别\n",
    "- 自然语言处理"
   ]
  },
  {
   "cell_type": "markdown",
   "metadata": {
    "slideshow": {
     "slide_type": "slide"
    }
   },
   "source": [
    "谷歌语音助理\n",
    "\n",
    "语音(输入)--> 文字 --> 对话模型 --> 文字 --> 语音(输出)\n",
    "\n",
    "![](img/duplex.jpg)"
   ]
  },
  {
   "cell_type": "markdown",
   "metadata": {
    "slideshow": {
     "slide_type": "slide"
    }
   },
   "source": [
    "“推荐餐厅，不要日本菜！”  结果推荐的都是日本菜\n",
    "\n",
    "![](img/ai_test.png)"
   ]
  },
  {
   "cell_type": "markdown",
   "metadata": {
    "slideshow": {
     "slide_type": "slide"
    }
   },
   "source": [
    "[人工智障：你看到的AI与智能无关](https://mp.weixin.qq.com/s/tFcVohNjdhvBE_INQk9muQ)\n",
    "\n",
    "今天还是1月6日，但2年前的今天，你与交往了5年的女友分手了，之后一直对她念念不忘，也没有交往新人。\n",
    "\n",
    "你和往日一样，进电梯的，刚要关门的时候，匆忙进来的一个人，要关的门又打开了。就是你2年前分手的那位前女友。她进门时看到只有你们两，她抬头看了一下你，然后又低头找楼层电梯了：\n",
    "\n",
    "> 这时她说：“你好”。\n",
    ">\n",
    "> 你也回答: “你好”。"
   ]
  },
  {
   "cell_type": "markdown",
   "metadata": {
    "slideshow": {
     "slide_type": "slide"
    }
   },
   "source": [
    "![](img/mind.png)\n",
    "\n",
    ">你在想（圆柱）：一年多不见了，她还好么？\n",
    ">\n",
    ">前女友在想（球）：这个人好眼熟，好像认识…"
   ]
  },
  {
   "cell_type": "markdown",
   "metadata": {
    "slideshow": {
     "slide_type": "slide"
    }
   },
   "source": [
    "以下指代词具体指代了什么？\n",
    "\n",
    ">A. “四川火锅比日料更好，因为**它**很辣”;\n",
    ">\n",
    ">B. “四川火锅比日料更好，因为**它**不辣”;\n",
    ">\n",
    ">C. 议员们拒绝给抗议者颁发许可证，因为**他们**害怕暴力\n",
    ">\n",
    ">D. 议员们拒绝给抗议者颁发许可证，因为**他们**提倡暴力\n",
    "\n",
    "\n",
    "明文（含上下文）+ 场景模型（Context）+ 世界模型"
   ]
  },
  {
   "cell_type": "markdown",
   "metadata": {
    "slideshow": {
     "slide_type": "slide"
    }
   },
   "source": [
    "# 怎样学习\"人工智能\"？\n",
    "\n",
    "最重要的能力:\n",
    "\n",
    "- 探索欲与耐心 ⋆⋆⋆⋆⋆\n",
    "\n",
    "- 编程能力 ⋆⋆⋆\n",
    "\n",
    "- 英语阅读能力 ⋆⋆⋆⋆\n",
    "\n",
    "- 数学知识(线性代数、微积分、概率统计) +++ \n"
   ]
  },
  {
   "cell_type": "markdown",
   "metadata": {
    "ExecuteTime": {
     "end_time": "2019-03-21T06:16:30.682676Z",
     "start_time": "2019-03-21T06:16:30.676680Z"
    },
    "slideshow": {
     "slide_type": "slide"
    }
   },
   "source": [
    "有用的工具/教材:\n",
    "\n",
    "- 阅读别人的代码(Github/Kaggle) ⋆⋆⋆⋆\n",
    "\n",
    "- 各类书籍与课程(数学之美/李宏毅深度学习/吴恩达机器学习) ⋆⋆⋆\n",
    "\n",
    "- 一个好用的“梯子” ⋆⋆⋆⋆⋆\n",
    "\n",
    "- colab ⋆⋆⋆⋆\n",
    "\n",
    "- 四路泰坦 +++ \n"
   ]
  },
  {
   "cell_type": "markdown",
   "metadata": {
    "slideshow": {
     "slide_type": "slide"
    }
   },
   "source": [
    "以吴恩达深度学习为例:\n",
    "    \n",
    "- [deeplearning.ai - 主页 - 网易云课堂](https://study.163.com/provider/2001053000/index.htm)\n",
    "- [github课程笔记](https://github.com/bighuang624/Andrew-Ng-Deep-Learning-notes)\n",
    "\n",
    "视频 + 课程笔记 + 代码notebook"
   ]
  },
  {
   "cell_type": "markdown",
   "metadata": {
    "slideshow": {
     "slide_type": "slide"
    }
   },
   "source": [
    "通过参与竞赛进行学习:\n",
    "\n",
    "- [猫狗大战](https://www.kaggle.com/c/dogs-vs-cats-redux-kernels-edition)\n",
    "- [查看别人的kernel](https://www.kaggle.com/jeffd23/catdognet-keras-convnet-starter)\n",
    "- [知乎解析](https://zhuanlan.zhihu.com/p/51889181)"
   ]
  },
  {
   "cell_type": "markdown",
   "metadata": {
    "slideshow": {
     "slide_type": "slide"
    }
   },
   "source": [
    "# 机器学习是如何工作的？\n",
    "\n",
    "![](img/cake.png)"
   ]
  },
  {
   "cell_type": "markdown",
   "metadata": {
    "slideshow": {
     "slide_type": "slide"
    }
   },
   "source": [
    "如何分开红点与蓝点？\n",
    "![](img/scatter.png)"
   ]
  },
  {
   "cell_type": "markdown",
   "metadata": {
    "slideshow": {
     "slide_type": "slide"
    }
   },
   "source": [
    "![](img/2error.png)"
   ]
  },
  {
   "cell_type": "markdown",
   "metadata": {
    "slideshow": {
     "slide_type": "slide"
    }
   },
   "source": [
    "通常我们称之为 损失函数(loss)\n",
    "![](img/error.png)"
   ]
  },
  {
   "cell_type": "markdown",
   "metadata": {
    "slideshow": {
     "slide_type": "slide"
    }
   },
   "source": [
    "随机梯度下降\n",
    "![](img/perceptron_animation.gif)\n",
    "![](img/fig5.gif)"
   ]
  },
  {
   "cell_type": "markdown",
   "metadata": {
    "slideshow": {
     "slide_type": "slide"
    }
   },
   "source": [
    "非线性问题\n",
    "![](img/nonlinear.png)"
   ]
  },
  {
   "cell_type": "markdown",
   "metadata": {
    "slideshow": {
     "slide_type": "slide"
    }
   },
   "source": [
    "![](img/combine.png)"
   ]
  },
  {
   "cell_type": "markdown",
   "metadata": {
    "slideshow": {
     "slide_type": "slide"
    }
   },
   "source": [
    "![](img/model.png)"
   ]
  },
  {
   "cell_type": "markdown",
   "metadata": {
    "slideshow": {
     "slide_type": "slide"
    }
   },
   "source": [
    "![](img/deep.png)"
   ]
  },
  {
   "cell_type": "markdown",
   "metadata": {
    "slideshow": {
     "slide_type": "slide"
    }
   },
   "source": [
    "# \"Hello World\" in deep learning\n",
    "\n"
   ]
  },
  {
   "cell_type": "code",
   "execution_count": 2,
   "metadata": {
    "ExecuteTime": {
     "end_time": "2019-01-02T07:56:15.444625Z",
     "start_time": "2019-01-02T07:56:14.878625Z"
    },
    "slideshow": {
     "slide_type": "-"
    }
   },
   "outputs": [
    {
     "data": {
      "image/png": "[encoded data removed]",
      "text/plain": [
       "<Figure size 864x1008 with 20 Axes>"
      ]
     },
     "metadata": {},
     "output_type": "display_data"
    }
   ],
   "source": [
    "plot_images_labels_predict(X_train_image, y_train_label, [], 0, 20)"
   ]
  },
  {
   "cell_type": "markdown",
   "metadata": {
    "slideshow": {
     "slide_type": "slide"
    }
   },
   "source": [
    "将原本 28x28 的图片转换为 1x728的向量\n",
    "![](img/reshape.gif)"
   ]
  },
  {
   "cell_type": "markdown",
   "metadata": {
    "slideshow": {
     "slide_type": "slide"
    }
   },
   "source": [
    "## 第一步，构建网络（定义一批函数）"
   ]
  },
  {
   "cell_type": "code",
   "execution_count": 2,
   "metadata": {
    "ExecuteTime": {
     "end_time": "2019-01-04T07:49:36.393445Z",
     "start_time": "2019-01-04T07:49:03.585802Z"
    },
    "slideshow": {
     "slide_type": "skip"
    }
   },
   "outputs": [
    {
     "name": "stderr",
     "output_type": "stream",
     "text": [
      "Using TensorFlow backend.\n"
     ]
    },
    {
     "name": "stdout",
     "output_type": "stream",
     "text": [
      "\t[Info] xTrain: (60000, 784)\n",
      "\t[Info] xTest: (10000, 784)\n"
     ]
    }
   ],
   "source": [
    "import numpy as np\n",
    "import pandas as pd\n",
    "from keras.utils import np_utils  # 用來後續將 label 標籤轉為 one-hot-encoding\n",
    "\n",
    "np.random.seed(10)\n",
    "from keras.datasets import mnist\n",
    "\n",
    "(X_train_image, y_train_label), (X_test_image, y_test_label) = mnist.load_data()\n",
    "\n",
    "import matplotlib.pyplot as plt\n",
    "def plot_image(image):\n",
    "    fig = plt.gcf()\n",
    "    fig.set_size_inches(2, 2)\n",
    "    plt.imshow(image, cmap='binary') # cmap='binary' 參數設定以黑白灰階顯示\n",
    "    plt.show()\n",
    "    \n",
    "def plot_images_labels_predict(images, labels, prediction, idx, num=10):  \n",
    "    fig = plt.gcf()  \n",
    "    fig.set_size_inches(12, 14)  \n",
    "    if num > 25: num = 25  \n",
    "    for i in range(0, num):  \n",
    "        ax=plt.subplot(5,5, 1+i)  \n",
    "        ax.imshow(images[idx], cmap='binary')  \n",
    "        title = \"l=\" + str(labels[idx])  \n",
    "        if len(prediction) > 0:  \n",
    "            title = \"l={},p={}\".format(str(labels[idx]), str(prediction[idx]))  \n",
    "        else:  \n",
    "            title = \"l={}\".format(str(labels[idx]))  \n",
    "        ax.set_title(title, fontsize=10)  \n",
    "        ax.set_xticks([]); ax.set_yticks([])  \n",
    "        idx+=1  \n",
    "    plt.show()\n",
    "    \n",
    "x_Train = X_train_image.reshape(60000, 28*28).astype('float32')\n",
    "x_Test = X_test_image.reshape(10000, 28*28).astype('float32')\n",
    "print(\"\\t[Info] xTrain: %s\" % (str(x_Train.shape)))\n",
    "print(\"\\t[Info] xTest: %s\" % (str(x_Test.shape)))\n",
    "  \n",
    "# Normalization\n",
    "x_Train_norm = x_Train/255\n",
    "x_Test_norm = x_Test/255\n",
    "\n",
    "y_TrainOneHot = np_utils.to_categorical(y_train_label) # 將 training 的 label 進行 one-hot encoding\n",
    "y_TestOneHot = np_utils.to_categorical(y_test_label) # 將測試的 labels 進行 one-hot encoding\n",
    "\n",
    "y_train_label[0] # 檢視 training labels 第一個 label 的值\n",
    "y_TrainOneHot[:1] # 檢視第一個 label 在 one-hot encoding 後的結果, 會在第六個位置上為 1, 其他位置上為 0\n",
    "\n",
    "from keras.models import Sequential  \n",
    "from keras.layers import Dense\n",
    "\n",
    "import matplotlib.pyplot as plt  \n",
    "def show_train_history(train_history, train, validation):  \n",
    "    plt.plot(train_history.history[train])  \n",
    "    plt.plot(train_history.history[validation])  \n",
    "    plt.title('Train History')  \n",
    "    plt.ylabel(train)  \n",
    "    plt.xlabel('Epoch')  \n",
    "    plt.legend(['train', 'validation'], loc='upper left')  \n",
    "    plt.show()"
   ]
  },
  {
   "cell_type": "code",
   "execution_count": 7,
   "metadata": {
    "ExecuteTime": {
     "end_time": "2019-01-04T08:32:54.368830Z",
     "start_time": "2019-01-04T08:32:53.213419Z"
    },
    "slideshow": {
     "slide_type": "-"
    }
   },
   "outputs": [],
   "source": [
    "model = Sequential()  # 定义一个新模型\n",
    "model.add(Dense(units=256, input_dim=784, kernel_initializer='normal', activation='relu')) #定义一个256维的隐藏层\n",
    "model.add(Dense(units=10, kernel_initializer='normal', activation='softmax')) # 定义一个10维的输出层"
   ]
  },
  {
   "cell_type": "markdown",
   "metadata": {
    "slideshow": {
     "slide_type": "-"
    }
   },
   "source": [
    "![](https://3.bp.blogspot.com/-TpTfcbPRWWY/WVW-EUCKVLI/AAAAAAAAWuE/sn9sX6qMc38UePENvSmmgLH3bA7za-3ogCLcBGAs/s1600/3946_3.PNG)"
   ]
  },
  {
   "cell_type": "markdown",
   "metadata": {
    "slideshow": {
     "slide_type": "slide"
    }
   },
   "source": [
    "## 第二步，定义学习目标(衡量方法)"
   ]
  },
  {
   "cell_type": "code",
   "execution_count": 8,
   "metadata": {
    "ExecuteTime": {
     "end_time": "2019-01-04T08:32:59.539482Z",
     "start_time": "2019-01-04T08:32:59.468485Z"
    },
    "slideshow": {
     "slide_type": "-"
    }
   },
   "outputs": [],
   "source": [
    "model.compile(loss='categorical_crossentropy', optimizer='SGD', metrics=['accuracy'])"
   ]
  },
  {
   "cell_type": "markdown",
   "metadata": {
    "ExecuteTime": {
     "end_time": "2019-01-02T07:49:35.215369Z",
     "start_time": "2019-01-02T07:49:35.209343Z"
    },
    "slideshow": {
     "slide_type": "-"
    }
   },
   "source": [
    "参数说明:\n",
    "* **loss** : 使用 cross_entropy (Cross entropy) 交叉熵.  ![](https://wikimedia.org/api/rest_v1/media/math/render/svg/0cb6da032ab424eefdca0884cd4113fe578f4293)\n",
    "* **optimizer** : 随机梯度下降.\n",
    "* **metrics** : 使用准确率进行评估"
   ]
  },
  {
   "cell_type": "markdown",
   "metadata": {
    "slideshow": {
     "slide_type": "slide"
    }
   },
   "source": [
    "## 第三步，训练！（组合最合适的方程）\n",
    "\n",
    "![](img/fit.png)"
   ]
  },
  {
   "cell_type": "code",
   "execution_count": 10,
   "metadata": {
    "ExecuteTime": {
     "end_time": "2019-01-04T09:35:57.020012Z",
     "start_time": "2019-01-04T09:35:39.268701Z"
    }
   },
   "outputs": [
    {
     "name": "stdout",
     "output_type": "stream",
     "text": [
      "Train on 48000 samples, validate on 12000 samples\n",
      "Epoch 1/10\n",
      " - 10s - loss: 1.7616 - acc: 0.5939 - val_loss: 1.2360 - val_acc: 0.7819\n",
      "Epoch 2/10\n",
      " - 1s - loss: 0.9825 - acc: 0.7996 - val_loss: 0.7536 - val_acc: 0.8397\n",
      "Epoch 3/10\n",
      " - 1s - loss: 0.6926 - acc: 0.8385 - val_loss: 0.5820 - val_acc: 0.8612\n",
      "Epoch 4/10\n",
      " - 1s - loss: 0.5707 - acc: 0.8586 - val_loss: 0.4971 - val_acc: 0.8764\n",
      "Epoch 5/10\n",
      " - 1s - loss: 0.5032 - acc: 0.8712 - val_loss: 0.4470 - val_acc: 0.8824\n",
      "Epoch 6/10\n",
      " - 1s - loss: 0.4600 - acc: 0.8787 - val_loss: 0.4140 - val_acc: 0.8890\n",
      "Epoch 7/10\n",
      " - 1s - loss: 0.4299 - acc: 0.8845 - val_loss: 0.3898 - val_acc: 0.8930\n",
      "Epoch 8/10\n",
      " - 1s - loss: 0.4073 - acc: 0.8895 - val_loss: 0.3720 - val_acc: 0.8967\n",
      "Epoch 9/10\n",
      " - 1s - loss: 0.3895 - acc: 0.8935 - val_loss: 0.3575 - val_acc: 0.9003\n",
      "Epoch 10/10\n",
      " - 1s - loss: 0.3750 - acc: 0.8968 - val_loss: 0.3462 - val_acc: 0.9036\n"
     ]
    }
   ],
   "source": [
    "train_history = model.fit(x=x_Train_norm, y=y_TrainOneHot, validation_split=0.2, epochs=10, batch_size=200, verbose=2)"
   ]
  },
  {
   "cell_type": "code",
   "execution_count": 6,
   "metadata": {
    "ExecuteTime": {
     "end_time": "2019-01-02T07:57:32.356454Z",
     "start_time": "2019-01-02T07:57:32.222459Z"
    },
    "slideshow": {
     "slide_type": "slide"
    }
   },
   "outputs": [
    {
     "data": {
      "image/png": "[encoded data removed]",
      "text/plain": [
       "<Figure size 432x288 with 1 Axes>"
      ]
     },
     "metadata": {
      "needs_background": "light"
     },
     "output_type": "display_data"
    }
   ],
   "source": [
    "show_train_history(train_history, 'acc', 'val_acc')"
   ]
  },
  {
   "cell_type": "code",
   "execution_count": 7,
   "metadata": {
    "ExecuteTime": {
     "end_time": "2019-01-02T07:57:42.774605Z",
     "start_time": "2019-01-02T07:57:42.645625Z"
    },
    "slideshow": {
     "slide_type": "-"
    }
   },
   "outputs": [
    {
     "data": {
      "image/png": "[encoded data removed]",
      "text/plain": [
       "<Figure size 432x288 with 1 Axes>"
      ]
     },
     "metadata": {
      "needs_background": "light"
     },
     "output_type": "display_data"
    }
   ],
   "source": [
    "show_train_history(train_history, 'loss', 'val_loss')"
   ]
  },
  {
   "cell_type": "markdown",
   "metadata": {
    "slideshow": {
     "slide_type": "slide"
    }
   },
   "source": [
    "## 对结果进行测试"
   ]
  },
  {
   "cell_type": "code",
   "execution_count": 8,
   "metadata": {
    "ExecuteTime": {
     "end_time": "2019-01-02T07:59:09.293623Z",
     "start_time": "2019-01-02T07:59:08.907623Z"
    },
    "slideshow": {
     "slide_type": "-"
    }
   },
   "outputs": [
    {
     "name": "stdout",
     "output_type": "stream",
     "text": [
      "10000/10000 [==============================] - 0s 38us/step\n",
      "\t[Info] Accuracy of testing data = 90.5%\n"
     ]
    }
   ],
   "source": [
    "scores = model.evaluate(x_Test_norm, y_TestOneHot)  \n",
    "print(\"\\t[Info] Accuracy of testing data = {:2.1f}%\".format(scores[1]*100.0))"
   ]
  },
  {
   "cell_type": "code",
   "execution_count": 9,
   "metadata": {
    "ExecuteTime": {
     "end_time": "2019-01-02T07:59:44.619756Z",
     "start_time": "2019-01-02T07:59:44.068756Z"
    },
    "slideshow": {
     "slide_type": "-"
    }
   },
   "outputs": [
    {
     "name": "stdout",
     "output_type": "stream",
     "text": [
      "[5 8 8 4 2 6 0 6 4 2]\n",
      "\n"
     ]
    },
    {
     "data": {
      "image/png": "[encoded data removed]",
      "text/plain": [
       "<Figure size 864x1008 with 10 Axes>"
      ]
     },
     "metadata": {},
     "output_type": "display_data"
    }
   ],
   "source": [
    "prediction = model.predict_classes(x_Test_norm)  # Making prediction and save result to prediction  \n",
    "print(\"%s\\n\" % (prediction[240:250]))  \n",
    "  \n",
    "plot_images_labels_predict(X_test_image, y_test_label, prediction, idx=300)"
   ]
  },
  {
   "cell_type": "code",
   "execution_count": null,
   "metadata": {},
   "outputs": [],
   "source": []
  }
 ],
 "metadata": {
  "celltoolbar": "幻灯片",
  "kernelspec": {
   "display_name": "Python 3",
   "language": "python",
   "name": "python3"
  },
  "language_info": {
   "codemirror_mode": {
    "name": "ipython",
    "version": 3
   },
   "file_extension": ".py",
   "mimetype": "text/x-python",
   "name": "python",
   "nbconvert_exporter": "python",
   "pygments_lexer": "ipython3",
   "version": "3.6.7"
  }
 },
 "nbformat": 4,
 "nbformat_minor": 2
}
