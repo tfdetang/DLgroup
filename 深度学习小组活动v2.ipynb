{
 "cells": [
  {
   "cell_type": "markdown",
   "metadata": {
    "slideshow": {
     "slide_type": "slide"
    }
   },
   "source": [
    "机器学习项目流程:\n",
    "\n",
    "数据探索 --> 设计方案 --> 数据清洗/特征工程 --> 构造数据集 --> 训练/调参"
   ]
  },
  {
   "cell_type": "markdown",
   "metadata": {
    "slideshow": {
     "slide_type": "slide"
    }
   },
   "source": [
    "导入必要的包"
   ]
  },
  {
   "cell_type": "code",
   "execution_count": 1,
   "metadata": {
    "ExecuteTime": {
     "end_time": "2019-04-11T02:38:40.040628Z",
     "start_time": "2019-04-11T02:38:08.126244Z"
    },
    "slideshow": {
     "slide_type": "-"
    }
   },
   "outputs": [
    {
     "name": "stderr",
     "output_type": "stream",
     "text": [
      "Using TensorFlow backend.\n"
     ]
    }
   ],
   "source": [
    "import numpy as np  #向量计算库\n",
    "import pandas as pd   #基于numpy的dataframe工具\n",
    "from keras.utils import np_utils   # keras下数据处理工具\n",
    "\n",
    "np.random.seed(10)\n",
    "from keras.datasets import mnist   # mnist数据集\n",
    "\n",
    "from keras.models import Sequential  # 贯序建模模式\n",
    "from keras.layers import Dense    # 全连接层神经元\n",
    "\n",
    "import matplotlib.pyplot as plt   # 绘图库 "
   ]
  },
  {
   "cell_type": "code",
   "execution_count": 2,
   "metadata": {
    "ExecuteTime": {
     "end_time": "2019-04-11T02:38:40.050602Z",
     "start_time": "2019-04-11T02:38:40.042618Z"
    },
    "slideshow": {
     "slide_type": "notes"
    }
   },
   "outputs": [],
   "source": [
    "def plot_image(image):\n",
    "    fig = plt.gcf()\n",
    "    fig.set_size_inches(2, 2)\n",
    "    plt.imshow(image, cmap='binary') # cmap='binary' 參數設定以黑白灰階顯示\n",
    "    plt.show()\n",
    "    \n",
    "def plot_images_labels_predict(images, labels, prediction, idx, num=10):  \n",
    "    fig = plt.gcf()  \n",
    "    fig.set_size_inches(12, 14)  \n",
    "    if num > 25: num = 25  \n",
    "    for i in range(0, num):  \n",
    "        ax=plt.subplot(5,5, 1+i)  \n",
    "        ax.imshow(images[idx], cmap='binary')  \n",
    "        title = \"l=\" + str(labels[idx])  \n",
    "        if len(prediction) > 0:  \n",
    "            title = \"l={},p={}\".format(str(labels[idx]), str(prediction[idx]))  \n",
    "        else:  \n",
    "            title = \"l={}\".format(str(labels[idx]))  \n",
    "        ax.set_title(title, fontsize=10)  \n",
    "        ax.set_xticks([]); ax.set_yticks([])  \n",
    "        idx+=1  \n",
    "    plt.show()\n",
    "    \n",
    "def show_train_history(train_history, train, validation):  \n",
    "    plt.plot(train_history.history[train])  \n",
    "    plt.plot(train_history.history[validation])  \n",
    "    plt.title('Train History')  \n",
    "    plt.ylabel(train)  \n",
    "    plt.xlabel('Epoch')  \n",
    "    plt.legend(['train', 'validation'], loc='upper left')  \n",
    "    plt.show()"
   ]
  },
  {
   "cell_type": "markdown",
   "metadata": {
    "slideshow": {
     "slide_type": "slide"
    }
   },
   "source": [
    "观察数据集"
   ]
  },
  {
   "cell_type": "code",
   "execution_count": 3,
   "metadata": {
    "ExecuteTime": {
     "end_time": "2019-04-11T02:38:41.080307Z",
     "start_time": "2019-04-11T02:38:40.051620Z"
    },
    "slideshow": {
     "slide_type": "-"
    }
   },
   "outputs": [
    {
     "data": {
      "image/png": "[encoded data removed]",
      "text/plain": [
       "<Figure size 864x1008 with 10 Axes>"
      ]
     },
     "metadata": {},
     "output_type": "display_data"
    }
   ],
   "source": [
    "(X_train_image, y_train_label), (X_test_image, y_test_label) = mnist.load_data()  # 载入训练数据集与测试数据集\n",
    "\n",
    "plot_images_labels_predict(X_train_image, y_train_label, [], 0, 10) #绘制数据与label "
   ]
  },
  {
   "cell_type": "markdown",
   "metadata": {
    "slideshow": {
     "slide_type": "slide"
    }
   },
   "source": [
    "![](https://github.com/caiyongji/machine-learning-mindmap-cn/raw/master/img/DataDrocessing/%E6%9E%84%E9%80%A0%E6%95%B0%E6%8D%AE%E9%9B%86.png)"
   ]
  },
  {
   "cell_type": "code",
   "execution_count": 4,
   "metadata": {
    "ExecuteTime": {
     "end_time": "2019-04-11T02:38:41.086320Z",
     "start_time": "2019-04-11T02:38:41.082305Z"
    },
    "slideshow": {
     "slide_type": "slide"
    }
   },
   "outputs": [
    {
     "name": "stdout",
     "output_type": "stream",
     "text": [
      "训练集的数据格式:(60000, 28, 28)  |测试集的标签格式:(60000,)\n",
      "测试集的数据格式:(10000, 28, 28)  |测试集的标签格式:(10000,)\n"
     ]
    }
   ],
   "source": [
    "print('训练集的数据格式:{}'.format(X_train_image.shape),  ' |测试集的标签格式:{}'.format(y_train_label.shape))\n",
    "print('测试集的数据格式:{}'.format(X_test_image.shape),  ' |测试集的标签格式:{}'.format(y_test_label.shape))"
   ]
  },
  {
   "cell_type": "code",
   "execution_count": 5,
   "metadata": {
    "ExecuteTime": {
     "end_time": "2019-04-11T02:38:41.964524Z",
     "start_time": "2019-04-11T02:38:41.088305Z"
    },
    "slideshow": {
     "slide_type": "-"
    }
   },
   "outputs": [
    {
     "data": {
      "text/plain": [
       "array([  0,   1,   2,   3,   4,   5,   6,   7,   8,   9,  10,  11,  12,\n",
       "        13,  14,  15,  16,  17,  18,  19,  20,  21,  22,  23,  24,  25,\n",
       "        26,  27,  28,  29,  30,  31,  32,  33,  34,  35,  36,  37,  38,\n",
       "        39,  40,  41,  42,  43,  44,  45,  46,  47,  48,  49,  50,  51,\n",
       "        52,  53,  54,  55,  56,  57,  58,  59,  60,  61,  62,  63,  64,\n",
       "        65,  66,  67,  68,  69,  70,  71,  72,  73,  74,  75,  76,  77,\n",
       "        78,  79,  80,  81,  82,  83,  84,  85,  86,  87,  88,  89,  90,\n",
       "        91,  92,  93,  94,  95,  96,  97,  98,  99, 100, 101, 102, 103,\n",
       "       104, 105, 106, 107, 108, 109, 110, 111, 112, 113, 114, 115, 116,\n",
       "       117, 118, 119, 120, 121, 122, 123, 124, 125, 126, 127, 128, 129,\n",
       "       130, 131, 132, 133, 134, 135, 136, 137, 138, 139, 140, 141, 142,\n",
       "       143, 144, 145, 146, 147, 148, 149, 150, 151, 152, 153, 154, 155,\n",
       "       156, 157, 158, 159, 160, 161, 162, 163, 164, 165, 166, 167, 168,\n",
       "       169, 170, 171, 172, 173, 174, 175, 176, 177, 178, 179, 180, 181,\n",
       "       182, 183, 184, 185, 186, 187, 188, 189, 190, 191, 192, 193, 194,\n",
       "       195, 196, 197, 198, 199, 200, 201, 202, 203, 204, 205, 206, 207,\n",
       "       208, 209, 210, 211, 212, 213, 214, 215, 216, 217, 218, 219, 220,\n",
       "       221, 222, 223, 224, 225, 226, 227, 228, 229, 230, 231, 232, 233,\n",
       "       234, 235, 236, 237, 238, 239, 240, 241, 242, 243, 244, 245, 246,\n",
       "       247, 248, 249, 250, 251, 252, 253, 254, 255], dtype=uint8)"
      ]
     },
     "execution_count": 5,
     "metadata": {},
     "output_type": "execute_result"
    }
   ],
   "source": [
    "np.unique(X_train_image)"
   ]
  },
  {
   "cell_type": "markdown",
   "metadata": {
    "slideshow": {
     "slide_type": "slide"
    }
   },
   "source": [
    "检查训练数据中，是否存在巨大偏差"
   ]
  },
  {
   "cell_type": "code",
   "execution_count": 6,
   "metadata": {
    "ExecuteTime": {
     "end_time": "2019-04-11T02:38:41.971521Z",
     "start_time": "2019-04-11T02:38:41.965521Z"
    },
    "slideshow": {
     "slide_type": "-"
    }
   },
   "outputs": [
    {
     "data": {
      "text/plain": [
       "{0: 5923,\n",
       " 1: 6742,\n",
       " 2: 5958,\n",
       " 3: 6131,\n",
       " 4: 5842,\n",
       " 5: 5421,\n",
       " 6: 5918,\n",
       " 7: 6265,\n",
       " 8: 5851,\n",
       " 9: 5949}"
      ]
     },
     "execution_count": 6,
     "metadata": {},
     "output_type": "execute_result"
    }
   ],
   "source": [
    "unique, counts = np.unique(y_train_label, return_counts=True)\n",
    "dict(zip(unique, counts))"
   ]
  },
  {
   "cell_type": "markdown",
   "metadata": {
    "slideshow": {
     "slide_type": "slide"
    }
   },
   "source": [
    "首先规整图像数据"
   ]
  },
  {
   "cell_type": "code",
   "execution_count": 7,
   "metadata": {
    "ExecuteTime": {
     "end_time": "2019-04-11T02:38:42.098541Z",
     "start_time": "2019-04-11T02:38:41.972524Z"
    },
    "slideshow": {
     "slide_type": "-"
    }
   },
   "outputs": [
    {
     "name": "stdout",
     "output_type": "stream",
     "text": [
      "\t xTrain数据格式: (60000, 784)\n",
      "\t xTest数据格式: (10000, 784)\n"
     ]
    }
   ],
   "source": [
    "x_Train = X_train_image.reshape(60000, 28*28).astype('float32')\n",
    "x_Test = X_test_image.reshape(10000, 28*28).astype('float32')\n",
    "print(\"\\t xTrain数据格式: %s\" % (str(x_Train.shape)))\n",
    "print(\"\\t xTest数据格式: %s\" % (str(x_Test.shape)))"
   ]
  },
  {
   "cell_type": "markdown",
   "metadata": {
    "slideshow": {
     "slide_type": "slide"
    }
   },
   "source": [
    "![](https://github.com/caiyongji/machine-learning-mindmap-cn/raw/master/img/DataDrocessing/%E7%89%B9%E5%BE%81%E5%BD%92%E4%B8%80%E5%8C%96(Normalisation)%E6%88%96%E7%BC%A9%E6%94%BE(Scaling).png)"
   ]
  },
  {
   "cell_type": "markdown",
   "metadata": {
    "slideshow": {
     "slide_type": "slide"
    }
   },
   "source": [
    "同时将图片的灰度值压缩到 0-1之间"
   ]
  },
  {
   "cell_type": "code",
   "execution_count": 8,
   "metadata": {
    "ExecuteTime": {
     "end_time": "2019-04-11T02:38:43.502520Z",
     "start_time": "2019-04-11T02:38:42.100536Z"
    },
    "slideshow": {
     "slide_type": "-"
    }
   },
   "outputs": [
    {
     "data": {
      "text/plain": [
       "array([0.        , 0.00392157, 0.00784314, 0.01176471, 0.01568628,\n",
       "       0.01960784, 0.02352941, 0.02745098, 0.03137255, 0.03529412,\n",
       "       0.03921569, 0.04313726, 0.04705882, 0.05098039, 0.05490196,\n",
       "       0.05882353, 0.0627451 , 0.06666667, 0.07058824, 0.07450981,\n",
       "       0.07843138, 0.08235294, 0.08627451, 0.09019608, 0.09411765,\n",
       "       0.09803922, 0.10196079, 0.10588235, 0.10980392, 0.11372549,\n",
       "       0.11764706, 0.12156863, 0.1254902 , 0.12941177, 0.13333334,\n",
       "       0.13725491, 0.14117648, 0.14509805, 0.14901961, 0.15294118,\n",
       "       0.15686275, 0.16078432, 0.16470589, 0.16862746, 0.17254902,\n",
       "       0.1764706 , 0.18039216, 0.18431373, 0.1882353 , 0.19215687,\n",
       "       0.19607843, 0.2       , 0.20392157, 0.20784314, 0.21176471,\n",
       "       0.21568628, 0.21960784, 0.22352941, 0.22745098, 0.23137255,\n",
       "       0.23529412, 0.23921569, 0.24313726, 0.24705882, 0.2509804 ,\n",
       "       0.25490198, 0.25882354, 0.2627451 , 0.26666668, 0.27058825,\n",
       "       0.27450982, 0.2784314 , 0.28235295, 0.28627452, 0.2901961 ,\n",
       "       0.29411766, 0.29803923, 0.3019608 , 0.30588236, 0.30980393,\n",
       "       0.3137255 , 0.31764707, 0.32156864, 0.3254902 , 0.32941177,\n",
       "       0.33333334, 0.3372549 , 0.34117648, 0.34509805, 0.34901962,\n",
       "       0.3529412 , 0.35686275, 0.36078432, 0.3647059 , 0.36862746,\n",
       "       0.37254903, 0.3764706 , 0.38039216, 0.38431373, 0.3882353 ,\n",
       "       0.39215687, 0.39607844, 0.4       , 0.40392157, 0.40784314,\n",
       "       0.4117647 , 0.41568628, 0.41960785, 0.42352942, 0.42745098,\n",
       "       0.43137255, 0.43529412, 0.4392157 , 0.44313726, 0.44705883,\n",
       "       0.4509804 , 0.45490196, 0.45882353, 0.4627451 , 0.46666667,\n",
       "       0.47058824, 0.4745098 , 0.47843137, 0.48235294, 0.4862745 ,\n",
       "       0.49019608, 0.49411765, 0.49803922, 0.5019608 , 0.5058824 ,\n",
       "       0.50980395, 0.5137255 , 0.5176471 , 0.52156866, 0.5254902 ,\n",
       "       0.5294118 , 0.53333336, 0.5372549 , 0.5411765 , 0.54509807,\n",
       "       0.54901963, 0.5529412 , 0.5568628 , 0.56078434, 0.5647059 ,\n",
       "       0.5686275 , 0.57254905, 0.5764706 , 0.5803922 , 0.58431375,\n",
       "       0.5882353 , 0.5921569 , 0.59607846, 0.6       , 0.6039216 ,\n",
       "       0.60784316, 0.6117647 , 0.6156863 , 0.61960787, 0.62352943,\n",
       "       0.627451  , 0.6313726 , 0.63529414, 0.6392157 , 0.6431373 ,\n",
       "       0.64705884, 0.6509804 , 0.654902  , 0.65882355, 0.6627451 ,\n",
       "       0.6666667 , 0.67058825, 0.6745098 , 0.6784314 , 0.68235296,\n",
       "       0.6862745 , 0.6901961 , 0.69411767, 0.69803923, 0.7019608 ,\n",
       "       0.7058824 , 0.70980394, 0.7137255 , 0.7176471 , 0.72156864,\n",
       "       0.7254902 , 0.7294118 , 0.73333335, 0.7372549 , 0.7411765 ,\n",
       "       0.74509805, 0.7490196 , 0.7529412 , 0.75686276, 0.7607843 ,\n",
       "       0.7647059 , 0.76862746, 0.77254903, 0.7764706 , 0.78039217,\n",
       "       0.78431374, 0.7882353 , 0.7921569 , 0.79607844, 0.8       ,\n",
       "       0.8039216 , 0.80784315, 0.8117647 , 0.8156863 , 0.81960785,\n",
       "       0.8235294 , 0.827451  , 0.83137256, 0.8352941 , 0.8392157 ,\n",
       "       0.84313726, 0.84705883, 0.8509804 , 0.85490197, 0.85882354,\n",
       "       0.8627451 , 0.8666667 , 0.87058824, 0.8745098 , 0.8784314 ,\n",
       "       0.88235295, 0.8862745 , 0.8901961 , 0.89411765, 0.8980392 ,\n",
       "       0.9019608 , 0.90588236, 0.9098039 , 0.9137255 , 0.91764706,\n",
       "       0.92156863, 0.9254902 , 0.92941177, 0.93333334, 0.9372549 ,\n",
       "       0.9411765 , 0.94509804, 0.9490196 , 0.9529412 , 0.95686275,\n",
       "       0.9607843 , 0.9647059 , 0.96862745, 0.972549  , 0.9764706 ,\n",
       "       0.98039216, 0.9843137 , 0.9882353 , 0.99215686, 0.99607843,\n",
       "       1.        ], dtype=float32)"
      ]
     },
     "execution_count": 8,
     "metadata": {},
     "output_type": "execute_result"
    }
   ],
   "source": [
    "x_Train_norm = x_Train/255\n",
    "x_Test_norm = x_Test/255\n",
    "np.unique(x_Train_norm)"
   ]
  },
  {
   "cell_type": "markdown",
   "metadata": {
    "slideshow": {
     "slide_type": "slide"
    }
   },
   "source": [
    "将label转换为 one-hot 的格式"
   ]
  },
  {
   "cell_type": "code",
   "execution_count": 9,
   "metadata": {
    "ExecuteTime": {
     "end_time": "2019-04-11T02:38:45.109690Z",
     "start_time": "2019-04-11T02:38:45.101698Z"
    },
    "slideshow": {
     "slide_type": "-"
    }
   },
   "outputs": [
    {
     "data": {
      "text/plain": [
       "(60000, 10)"
      ]
     },
     "execution_count": 9,
     "metadata": {},
     "output_type": "execute_result"
    }
   ],
   "source": [
    "y_TrainOneHot = np_utils.to_categorical(y_train_label) # 將 training 的 label 進行 one-hot encoding\n",
    "y_TestOneHot = np_utils.to_categorical(y_test_label) # 將測試的 labels 進行 one-hot encoding\n",
    "y_TrainOneHot.shape"
   ]
  },
  {
   "cell_type": "markdown",
   "metadata": {
    "slideshow": {
     "slide_type": "-"
    }
   },
   "source": [
    "![](https://gombru.github.io/assets/cross_entropy_loss/multiclass_multilabel.png)"
   ]
  },
  {
   "cell_type": "markdown",
   "metadata": {
    "slideshow": {
     "slide_type": "slide"
    }
   },
   "source": [
    "构建计算模型"
   ]
  },
  {
   "cell_type": "code",
   "execution_count": 10,
   "metadata": {
    "ExecuteTime": {
     "end_time": "2019-04-11T02:38:52.295485Z",
     "start_time": "2019-04-11T02:38:51.986324Z"
    },
    "slideshow": {
     "slide_type": "-"
    }
   },
   "outputs": [],
   "source": [
    "model = Sequential()  # 定义一个新模型\n",
    "model.add(Dense(units=256, input_dim=784, kernel_initializer='normal', activation='relu')) #定义一个256维的隐藏层\n",
    "model.add(Dense(units=10, kernel_initializer='normal', activation='softmax')) # 定义一个10维的输出层"
   ]
  },
  {
   "cell_type": "markdown",
   "metadata": {
    "slideshow": {
     "slide_type": "-"
    }
   },
   "source": [
    "softmax激活函数图\n",
    "![](https://gombru.github.io/assets/cross_entropy_loss/sigmoid.png)"
   ]
  },
  {
   "cell_type": "markdown",
   "metadata": {
    "slideshow": {
     "slide_type": "slide"
    }
   },
   "source": [
    "构建损失函数"
   ]
  },
  {
   "cell_type": "code",
   "execution_count": 11,
   "metadata": {
    "ExecuteTime": {
     "end_time": "2019-04-11T02:38:59.807194Z",
     "start_time": "2019-04-11T02:38:59.764872Z"
    },
    "slideshow": {
     "slide_type": "-"
    }
   },
   "outputs": [],
   "source": [
    "model.compile(loss='categorical_crossentropy', optimizer='SGD', metrics=['accuracy'])"
   ]
  },
  {
   "cell_type": "markdown",
   "metadata": {
    "slideshow": {
     "slide_type": "-"
    }
   },
   "source": [
    "参数说明:\n",
    "* **loss** : 使用 cross_entropy (Cross entropy) 交叉熵.  ![](https://wikimedia.org/api/rest_v1/media/math/render/svg/0cb6da032ab424eefdca0884cd4113fe578f4293)\n",
    "* **optimizer** : 随机梯度下降.\n",
    "* **metrics** : 使用准确率进行评估"
   ]
  },
  {
   "cell_type": "markdown",
   "metadata": {
    "slideshow": {
     "slide_type": "slide"
    }
   },
   "source": [
    "交叉熵损失计算\n",
    "\n",
    "![](img/cross_entropy.jpg)"
   ]
  },
  {
   "cell_type": "markdown",
   "metadata": {
    "slideshow": {
     "slide_type": "slide"
    }
   },
   "source": [
    "![](img/fit.png)"
   ]
  },
  {
   "cell_type": "code",
   "execution_count": 12,
   "metadata": {
    "ExecuteTime": {
     "end_time": "2019-04-11T02:45:29.667365Z",
     "start_time": "2019-04-11T02:39:48.921551Z"
    }
   },
   "outputs": [
    {
     "name": "stdout",
     "output_type": "stream",
     "text": [
      "Train on 48000 samples, validate on 12000 samples\n",
      "Epoch 1/130\n",
      " - 12s - loss: 1.0034 - acc: 0.7726 - val_loss: 0.4973 - val_acc: 0.8752\n",
      "Epoch 2/130\n",
      " - 3s - loss: 0.4522 - acc: 0.8809 - val_loss: 0.3722 - val_acc: 0.8978\n",
      "Epoch 3/130\n",
      " - 3s - loss: 0.3723 - acc: 0.8980 - val_loss: 0.3287 - val_acc: 0.9065\n",
      "Epoch 4/130\n",
      " - 3s - loss: 0.3340 - acc: 0.9074 - val_loss: 0.3029 - val_acc: 0.9161\n",
      "Epoch 5/130\n",
      " - 3s - loss: 0.3086 - acc: 0.9132 - val_loss: 0.2826 - val_acc: 0.9203\n",
      "Epoch 6/130\n",
      " - 3s - loss: 0.2890 - acc: 0.9191 - val_loss: 0.2676 - val_acc: 0.9245\n",
      "Epoch 7/130\n",
      " - 3s - loss: 0.2730 - acc: 0.9235 - val_loss: 0.2549 - val_acc: 0.9282\n",
      "Epoch 8/130\n",
      " - 3s - loss: 0.2589 - acc: 0.9270 - val_loss: 0.2431 - val_acc: 0.9308\n",
      "Epoch 9/130\n",
      " - 3s - loss: 0.2466 - acc: 0.9307 - val_loss: 0.2330 - val_acc: 0.9347\n",
      "Epoch 10/130\n",
      " - 3s - loss: 0.2355 - acc: 0.9336 - val_loss: 0.2248 - val_acc: 0.9370\n",
      "Epoch 11/130\n",
      " - 3s - loss: 0.2253 - acc: 0.9368 - val_loss: 0.2164 - val_acc: 0.9399\n",
      "Epoch 12/130\n",
      " - 3s - loss: 0.2162 - acc: 0.9394 - val_loss: 0.2085 - val_acc: 0.9428\n",
      "Epoch 13/130\n",
      " - 3s - loss: 0.2075 - acc: 0.9422 - val_loss: 0.2020 - val_acc: 0.9448\n",
      "Epoch 14/130\n",
      " - 3s - loss: 0.1996 - acc: 0.9441 - val_loss: 0.1951 - val_acc: 0.9476\n",
      "Epoch 15/130\n",
      " - 3s - loss: 0.1922 - acc: 0.9464 - val_loss: 0.1895 - val_acc: 0.9493\n",
      "Epoch 16/130\n",
      " - 3s - loss: 0.1852 - acc: 0.9478 - val_loss: 0.1836 - val_acc: 0.9497\n",
      "Epoch 17/130\n",
      " - 3s - loss: 0.1789 - acc: 0.9502 - val_loss: 0.1783 - val_acc: 0.9518\n",
      "Epoch 18/130\n",
      " - 3s - loss: 0.1728 - acc: 0.9514 - val_loss: 0.1738 - val_acc: 0.9528\n",
      "Epoch 19/130\n",
      " - 3s - loss: 0.1674 - acc: 0.9530 - val_loss: 0.1688 - val_acc: 0.9546\n",
      "Epoch 20/130\n",
      " - 3s - loss: 0.1621 - acc: 0.9546 - val_loss: 0.1649 - val_acc: 0.9549\n",
      "Epoch 21/130\n",
      " - 3s - loss: 0.1572 - acc: 0.9558 - val_loss: 0.1609 - val_acc: 0.9557\n",
      "Epoch 22/130\n",
      " - 3s - loss: 0.1523 - acc: 0.9571 - val_loss: 0.1577 - val_acc: 0.9560\n",
      "Epoch 23/130\n",
      " - 3s - loss: 0.1478 - acc: 0.9589 - val_loss: 0.1542 - val_acc: 0.9572\n",
      "Epoch 24/130\n",
      " - 3s - loss: 0.1437 - acc: 0.9599 - val_loss: 0.1514 - val_acc: 0.9584\n",
      "Epoch 25/130\n",
      " - 3s - loss: 0.1397 - acc: 0.9610 - val_loss: 0.1483 - val_acc: 0.9598\n",
      "Epoch 26/130\n",
      " - 3s - loss: 0.1359 - acc: 0.9621 - val_loss: 0.1454 - val_acc: 0.9601\n",
      "Epoch 27/130\n",
      " - 3s - loss: 0.1324 - acc: 0.9633 - val_loss: 0.1427 - val_acc: 0.9612\n",
      "Epoch 28/130\n",
      " - 3s - loss: 0.1290 - acc: 0.9643 - val_loss: 0.1400 - val_acc: 0.9621\n",
      "Epoch 29/130\n",
      " - 3s - loss: 0.1259 - acc: 0.9653 - val_loss: 0.1372 - val_acc: 0.9626\n",
      "Epoch 30/130\n",
      " - 3s - loss: 0.1227 - acc: 0.9659 - val_loss: 0.1352 - val_acc: 0.9625\n",
      "Epoch 31/130\n",
      " - 3s - loss: 0.1198 - acc: 0.9670 - val_loss: 0.1333 - val_acc: 0.9631\n",
      "Epoch 32/130\n",
      " - 3s - loss: 0.1170 - acc: 0.9678 - val_loss: 0.1311 - val_acc: 0.9638\n",
      "Epoch 33/130\n",
      " - 3s - loss: 0.1143 - acc: 0.9691 - val_loss: 0.1290 - val_acc: 0.9645\n",
      "Epoch 34/130\n",
      " - 3s - loss: 0.1116 - acc: 0.9692 - val_loss: 0.1273 - val_acc: 0.9643\n",
      "Epoch 35/130\n",
      " - 3s - loss: 0.1093 - acc: 0.9701 - val_loss: 0.1253 - val_acc: 0.9648\n",
      "Epoch 36/130\n",
      " - 3s - loss: 0.1069 - acc: 0.9710 - val_loss: 0.1236 - val_acc: 0.9656\n",
      "Epoch 37/130\n",
      " - 3s - loss: 0.1045 - acc: 0.9718 - val_loss: 0.1220 - val_acc: 0.9664\n",
      "Epoch 38/130\n",
      " - 3s - loss: 0.1023 - acc: 0.9725 - val_loss: 0.1216 - val_acc: 0.9654\n",
      "Epoch 39/130\n",
      " - 3s - loss: 0.1002 - acc: 0.9734 - val_loss: 0.1189 - val_acc: 0.9663\n",
      "Epoch 40/130\n",
      " - 3s - loss: 0.0983 - acc: 0.9740 - val_loss: 0.1178 - val_acc: 0.9668\n",
      "Epoch 41/130\n",
      " - 3s - loss: 0.0963 - acc: 0.9744 - val_loss: 0.1171 - val_acc: 0.9667\n",
      "Epoch 42/130\n",
      " - 3s - loss: 0.0943 - acc: 0.9750 - val_loss: 0.1151 - val_acc: 0.9674\n",
      "Epoch 43/130\n",
      " - 3s - loss: 0.0925 - acc: 0.9755 - val_loss: 0.1141 - val_acc: 0.9681\n",
      "Epoch 44/130\n",
      " - 3s - loss: 0.0907 - acc: 0.9759 - val_loss: 0.1132 - val_acc: 0.9687\n",
      "Epoch 45/130\n",
      " - 3s - loss: 0.0890 - acc: 0.9765 - val_loss: 0.1111 - val_acc: 0.9685\n",
      "Epoch 46/130\n",
      " - 3s - loss: 0.0874 - acc: 0.9773 - val_loss: 0.1108 - val_acc: 0.9684\n",
      "Epoch 47/130\n",
      " - 3s - loss: 0.0858 - acc: 0.9775 - val_loss: 0.1093 - val_acc: 0.9685\n",
      "Epoch 48/130\n",
      " - 3s - loss: 0.0841 - acc: 0.9777 - val_loss: 0.1088 - val_acc: 0.9693\n",
      "Epoch 49/130\n",
      " - 3s - loss: 0.0827 - acc: 0.9787 - val_loss: 0.1074 - val_acc: 0.9690\n",
      "Epoch 50/130\n",
      " - 3s - loss: 0.0812 - acc: 0.9790 - val_loss: 0.1070 - val_acc: 0.9698\n",
      "Epoch 51/130\n",
      " - 3s - loss: 0.0798 - acc: 0.9792 - val_loss: 0.1058 - val_acc: 0.9702\n",
      "Epoch 52/130\n",
      " - 3s - loss: 0.0783 - acc: 0.9795 - val_loss: 0.1055 - val_acc: 0.9700\n",
      "Epoch 53/130\n",
      " - 3s - loss: 0.0770 - acc: 0.9798 - val_loss: 0.1041 - val_acc: 0.9700\n",
      "Epoch 54/130\n",
      " - 3s - loss: 0.0756 - acc: 0.9800 - val_loss: 0.1031 - val_acc: 0.9708\n",
      "Epoch 55/130\n",
      " - 3s - loss: 0.0744 - acc: 0.9806 - val_loss: 0.1019 - val_acc: 0.9714\n",
      "Epoch 56/130\n",
      " - 3s - loss: 0.0732 - acc: 0.9810 - val_loss: 0.1015 - val_acc: 0.9715\n",
      "Epoch 57/130\n",
      " - 3s - loss: 0.0719 - acc: 0.9814 - val_loss: 0.1010 - val_acc: 0.9719\n",
      "Epoch 58/130\n",
      " - 3s - loss: 0.0707 - acc: 0.9820 - val_loss: 0.1001 - val_acc: 0.9719\n",
      "Epoch 59/130\n",
      " - 3s - loss: 0.0696 - acc: 0.9820 - val_loss: 0.1001 - val_acc: 0.9716\n",
      "Epoch 60/130\n",
      " - 3s - loss: 0.0685 - acc: 0.9824 - val_loss: 0.0984 - val_acc: 0.9723\n",
      "Epoch 61/130\n",
      " - 3s - loss: 0.0674 - acc: 0.9827 - val_loss: 0.0987 - val_acc: 0.9721\n",
      "Epoch 62/130\n",
      " - 3s - loss: 0.0664 - acc: 0.9830 - val_loss: 0.0979 - val_acc: 0.9727\n",
      "Epoch 63/130\n",
      " - 3s - loss: 0.0653 - acc: 0.9833 - val_loss: 0.0967 - val_acc: 0.9724\n",
      "Epoch 64/130\n",
      " - 3s - loss: 0.0642 - acc: 0.9835 - val_loss: 0.0963 - val_acc: 0.9726\n",
      "Epoch 65/130\n",
      " - 3s - loss: 0.0633 - acc: 0.9839 - val_loss: 0.0955 - val_acc: 0.9727\n",
      "Epoch 66/130\n",
      " - 3s - loss: 0.0624 - acc: 0.9843 - val_loss: 0.0948 - val_acc: 0.9728\n",
      "Epoch 67/130\n",
      " - 3s - loss: 0.0614 - acc: 0.9845 - val_loss: 0.0947 - val_acc: 0.9726\n",
      "Epoch 68/130\n",
      " - 3s - loss: 0.0604 - acc: 0.9850 - val_loss: 0.0941 - val_acc: 0.9732\n",
      "Epoch 69/130\n",
      " - 3s - loss: 0.0595 - acc: 0.9849 - val_loss: 0.0938 - val_acc: 0.9728\n",
      "Epoch 70/130\n",
      " - 3s - loss: 0.0587 - acc: 0.9851 - val_loss: 0.0929 - val_acc: 0.9732\n",
      "Epoch 71/130\n",
      " - 3s - loss: 0.0578 - acc: 0.9854 - val_loss: 0.0922 - val_acc: 0.9736\n",
      "Epoch 72/130\n",
      " - 3s - loss: 0.0570 - acc: 0.9860 - val_loss: 0.0918 - val_acc: 0.9733\n",
      "Epoch 73/130\n",
      " - 3s - loss: 0.0561 - acc: 0.9859 - val_loss: 0.0914 - val_acc: 0.9737\n",
      "Epoch 74/130\n",
      " - 3s - loss: 0.0553 - acc: 0.9864 - val_loss: 0.0913 - val_acc: 0.9737\n",
      "Epoch 75/130\n",
      " - 3s - loss: 0.0546 - acc: 0.9865 - val_loss: 0.0910 - val_acc: 0.9741\n",
      "Epoch 76/130\n",
      " - 3s - loss: 0.0537 - acc: 0.9871 - val_loss: 0.0911 - val_acc: 0.9735\n",
      "Epoch 77/130\n",
      " - 3s - loss: 0.0531 - acc: 0.9868 - val_loss: 0.0899 - val_acc: 0.9733\n",
      "Epoch 78/130\n",
      " - 3s - loss: 0.0522 - acc: 0.9872 - val_loss: 0.0897 - val_acc: 0.9739\n",
      "Epoch 79/130\n",
      " - 3s - loss: 0.0515 - acc: 0.9876 - val_loss: 0.0893 - val_acc: 0.9736\n",
      "Epoch 80/130\n",
      " - 3s - loss: 0.0508 - acc: 0.9877 - val_loss: 0.0889 - val_acc: 0.9737\n",
      "Epoch 81/130\n",
      " - 3s - loss: 0.0500 - acc: 0.9881 - val_loss: 0.0885 - val_acc: 0.9735\n",
      "Epoch 82/130\n",
      " - 3s - loss: 0.0494 - acc: 0.9882 - val_loss: 0.0884 - val_acc: 0.9739\n",
      "Epoch 83/130\n",
      " - 3s - loss: 0.0488 - acc: 0.9884 - val_loss: 0.0880 - val_acc: 0.9740\n",
      "Epoch 84/130\n",
      " - 3s - loss: 0.0481 - acc: 0.9885 - val_loss: 0.0874 - val_acc: 0.9742\n",
      "Epoch 85/130\n",
      " - 3s - loss: 0.0474 - acc: 0.9889 - val_loss: 0.0877 - val_acc: 0.9743\n",
      "Epoch 86/130\n",
      " - 3s - loss: 0.0467 - acc: 0.9887 - val_loss: 0.0872 - val_acc: 0.9748\n",
      "Epoch 87/130\n",
      " - 3s - loss: 0.0461 - acc: 0.9890 - val_loss: 0.0863 - val_acc: 0.9745\n",
      "Epoch 88/130\n",
      " - 3s - loss: 0.0456 - acc: 0.9892 - val_loss: 0.0861 - val_acc: 0.9742\n",
      "Epoch 89/130\n",
      " - 3s - loss: 0.0450 - acc: 0.9893 - val_loss: 0.0859 - val_acc: 0.9745\n",
      "Epoch 90/130\n",
      " - 3s - loss: 0.0444 - acc: 0.9893 - val_loss: 0.0856 - val_acc: 0.9746\n",
      "Epoch 91/130\n",
      " - 3s - loss: 0.0438 - acc: 0.9896 - val_loss: 0.0856 - val_acc: 0.9744\n",
      "Epoch 92/130\n",
      " - 3s - loss: 0.0433 - acc: 0.9898 - val_loss: 0.0851 - val_acc: 0.9744\n",
      "Epoch 93/130\n",
      " - 3s - loss: 0.0427 - acc: 0.9903 - val_loss: 0.0848 - val_acc: 0.9747\n",
      "Epoch 94/130\n",
      " - 3s - loss: 0.0421 - acc: 0.9902 - val_loss: 0.0846 - val_acc: 0.9748\n",
      "Epoch 95/130\n",
      " - 3s - loss: 0.0416 - acc: 0.9903 - val_loss: 0.0844 - val_acc: 0.9744\n",
      "Epoch 96/130\n",
      " - 3s - loss: 0.0410 - acc: 0.9906 - val_loss: 0.0844 - val_acc: 0.9744\n"
     ]
    },
    {
     "name": "stdout",
     "output_type": "stream",
     "text": [
      "Epoch 97/130\n",
      " - 3s - loss: 0.0405 - acc: 0.9904 - val_loss: 0.0835 - val_acc: 0.9747\n",
      "Epoch 98/130\n",
      " - 3s - loss: 0.0401 - acc: 0.9909 - val_loss: 0.0835 - val_acc: 0.9748\n",
      "Epoch 99/130\n",
      " - 3s - loss: 0.0395 - acc: 0.9908 - val_loss: 0.0832 - val_acc: 0.9751\n",
      "Epoch 100/130\n",
      " - 3s - loss: 0.0390 - acc: 0.9910 - val_loss: 0.0830 - val_acc: 0.9748\n",
      "Epoch 101/130\n",
      " - 3s - loss: 0.0385 - acc: 0.9913 - val_loss: 0.0831 - val_acc: 0.9750\n",
      "Epoch 102/130\n",
      " - 3s - loss: 0.0380 - acc: 0.9914 - val_loss: 0.0831 - val_acc: 0.9751\n",
      "Epoch 103/130\n",
      " - 3s - loss: 0.0376 - acc: 0.9914 - val_loss: 0.0827 - val_acc: 0.9753\n",
      "Epoch 104/130\n",
      " - 3s - loss: 0.0371 - acc: 0.9918 - val_loss: 0.0824 - val_acc: 0.9751\n",
      "Epoch 105/130\n",
      " - 3s - loss: 0.0366 - acc: 0.9918 - val_loss: 0.0823 - val_acc: 0.9755\n",
      "Epoch 106/130\n",
      " - 3s - loss: 0.0362 - acc: 0.9920 - val_loss: 0.0822 - val_acc: 0.9754\n",
      "Epoch 107/130\n",
      " - 3s - loss: 0.0358 - acc: 0.9922 - val_loss: 0.0823 - val_acc: 0.9756\n",
      "Epoch 108/130\n",
      " - 3s - loss: 0.0353 - acc: 0.9924 - val_loss: 0.0818 - val_acc: 0.9756\n",
      "Epoch 109/130\n",
      " - 3s - loss: 0.0349 - acc: 0.9924 - val_loss: 0.0815 - val_acc: 0.9756\n",
      "Epoch 110/130\n",
      " - 3s - loss: 0.0344 - acc: 0.9924 - val_loss: 0.0812 - val_acc: 0.9756\n",
      "Epoch 111/130\n",
      " - 3s - loss: 0.0341 - acc: 0.9928 - val_loss: 0.0813 - val_acc: 0.9758\n",
      "Epoch 112/130\n",
      " - 3s - loss: 0.0336 - acc: 0.9927 - val_loss: 0.0813 - val_acc: 0.9759\n",
      "Epoch 113/130\n",
      " - 3s - loss: 0.0332 - acc: 0.9930 - val_loss: 0.0811 - val_acc: 0.9750\n",
      "Epoch 114/130\n",
      " - 3s - loss: 0.0328 - acc: 0.9930 - val_loss: 0.0809 - val_acc: 0.9758\n",
      "Epoch 115/130\n",
      " - 3s - loss: 0.0324 - acc: 0.9932 - val_loss: 0.0808 - val_acc: 0.9755\n",
      "Epoch 116/130\n",
      " - 3s - loss: 0.0321 - acc: 0.9932 - val_loss: 0.0805 - val_acc: 0.9758\n",
      "Epoch 117/130\n",
      " - 3s - loss: 0.0317 - acc: 0.9934 - val_loss: 0.0801 - val_acc: 0.9755\n",
      "Epoch 118/130\n",
      " - 3s - loss: 0.0313 - acc: 0.9935 - val_loss: 0.0804 - val_acc: 0.9757\n",
      "Epoch 119/130\n",
      " - 3s - loss: 0.0310 - acc: 0.9936 - val_loss: 0.0806 - val_acc: 0.9758\n",
      "Epoch 120/130\n",
      " - 3s - loss: 0.0306 - acc: 0.9939 - val_loss: 0.0798 - val_acc: 0.9758\n",
      "Epoch 121/130\n",
      " - 3s - loss: 0.0302 - acc: 0.9939 - val_loss: 0.0803 - val_acc: 0.9754\n",
      "Epoch 122/130\n",
      " - 3s - loss: 0.0298 - acc: 0.9938 - val_loss: 0.0800 - val_acc: 0.9757\n",
      "Epoch 123/130\n",
      " - 3s - loss: 0.0296 - acc: 0.9942 - val_loss: 0.0800 - val_acc: 0.9755\n",
      "Epoch 124/130\n",
      " - 3s - loss: 0.0292 - acc: 0.9940 - val_loss: 0.0796 - val_acc: 0.9758\n",
      "Epoch 125/130\n",
      " - 3s - loss: 0.0289 - acc: 0.9944 - val_loss: 0.0795 - val_acc: 0.9758\n",
      "Epoch 126/130\n",
      " - 3s - loss: 0.0286 - acc: 0.9944 - val_loss: 0.0795 - val_acc: 0.9758\n",
      "Epoch 127/130\n",
      " - 3s - loss: 0.0282 - acc: 0.9948 - val_loss: 0.0798 - val_acc: 0.9760\n",
      "Epoch 128/130\n",
      " - 3s - loss: 0.0280 - acc: 0.9945 - val_loss: 0.0795 - val_acc: 0.9760\n",
      "Epoch 129/130\n",
      " - 3s - loss: 0.0276 - acc: 0.9948 - val_loss: 0.0794 - val_acc: 0.9760\n",
      "Epoch 130/130\n",
      " - 3s - loss: 0.0273 - acc: 0.9947 - val_loss: 0.0790 - val_acc: 0.9761\n"
     ]
    }
   ],
   "source": [
    "train_history = model.fit(x=x_Train_norm, y=y_TrainOneHot ,validation_split=0.2, epochs=130, batch_size=50, verbose=2)"
   ]
  },
  {
   "cell_type": "code",
   "execution_count": 13,
   "metadata": {
    "ExecuteTime": {
     "end_time": "2019-04-11T02:45:29.848611Z",
     "start_time": "2019-04-11T02:45:29.669365Z"
    },
    "slideshow": {
     "slide_type": "slide"
    }
   },
   "outputs": [
    {
     "data": {
      "image/png": "[encoded data removed]",
      "text/plain": [
       "<Figure size 432x288 with 1 Axes>"
      ]
     },
     "metadata": {
      "needs_background": "light"
     },
     "output_type": "display_data"
    }
   ],
   "source": [
    "show_train_history(train_history, 'acc', 'val_acc')"
   ]
  },
  {
   "cell_type": "code",
   "execution_count": 14,
   "metadata": {
    "ExecuteTime": {
     "end_time": "2019-04-11T02:45:29.963607Z",
     "start_time": "2019-04-11T02:45:29.849607Z"
    },
    "slideshow": {
     "slide_type": "-"
    }
   },
   "outputs": [
    {
     "data": {
      "image/png": "[encoded data removed]",
      "text/plain": [
       "<Figure size 432x288 with 1 Axes>"
      ]
     },
     "metadata": {
      "needs_background": "light"
     },
     "output_type": "display_data"
    }
   ],
   "source": [
    "show_train_history(train_history, 'loss', 'val_loss')"
   ]
  },
  {
   "cell_type": "markdown",
   "metadata": {
    "slideshow": {
     "slide_type": "slide"
    }
   },
   "source": [
    "欠拟合与过拟合\n",
    "![](img/overfit.jpg)"
   ]
  },
  {
   "cell_type": "code",
   "execution_count": 15,
   "metadata": {
    "ExecuteTime": {
     "end_time": "2019-04-11T02:45:30.272596Z",
     "start_time": "2019-04-11T02:45:29.965591Z"
    },
    "slideshow": {
     "slide_type": "-"
    }
   },
   "outputs": [
    {
     "name": "stdout",
     "output_type": "stream",
     "text": [
      "10000/10000 [==============================] - 0s 30us/step\n",
      "\t[Info] Accuracy of testing data = 97.9%\n"
     ]
    }
   ],
   "source": [
    "scores = model.evaluate(x_Test_norm, y_TestOneHot)  \n",
    "print(\"\\t[Info] Accuracy of testing data = {:2.1f}%\".format(scores[1]*100.0))"
   ]
  },
  {
   "cell_type": "code",
   "execution_count": 16,
   "metadata": {
    "ExecuteTime": {
     "end_time": "2019-04-11T02:45:30.729607Z",
     "start_time": "2019-04-11T02:45:30.274597Z"
    },
    "slideshow": {
     "slide_type": "slide"
    }
   },
   "outputs": [
    {
     "name": "stdout",
     "output_type": "stream",
     "text": [
      "[5 9 8 7 2 3 0 2 4 2]\n",
      "\n"
     ]
    },
    {
     "data": {
      "image/png": "[encoded data removed]",
      "text/plain": [
       "<Figure size 864x1008 with 10 Axes>"
      ]
     },
     "metadata": {},
     "output_type": "display_data"
    }
   ],
   "source": [
    "prediction = model.predict_classes(x_Test_norm)  # Making prediction and save result to prediction  \n",
    "print(\"%s\\n\" % (prediction[240:250]))  \n",
    "  \n",
    "plot_images_labels_predict(X_test_image, y_test_label, prediction, idx=300)"
   ]
  },
  {
   "cell_type": "code",
   "execution_count": null,
   "metadata": {},
   "outputs": [],
   "source": []
  }
 ],
 "metadata": {
  "celltoolbar": "幻灯片",
  "kernelspec": {
   "display_name": "Python 3",
   "language": "python",
   "name": "python3"
  },
  "language_info": {
   "codemirror_mode": {
    "name": "ipython",
    "version": 3
   },
   "file_extension": ".py",
   "mimetype": "text/x-python",
   "name": "python",
   "nbconvert_exporter": "python",
   "pygments_lexer": "ipython3",
   "version": "3.6.7"
  }
 },
 "nbformat": 4,
 "nbformat_minor": 2
}
