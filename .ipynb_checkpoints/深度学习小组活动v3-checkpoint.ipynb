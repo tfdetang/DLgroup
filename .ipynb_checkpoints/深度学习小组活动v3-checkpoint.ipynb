{
 "cells": [
  {
   "cell_type": "markdown",
   "metadata": {
    "slideshow": {
     "slide_type": "slide"
    }
   },
   "source": [
    "# 计算机是如何存储图片的\n",
    "\n",
    "图片是由数字矩阵组成的，我们最常用的RGB格式的图片由三个通道的矩阵叠加而成 （H * W * C）\n",
    "\n",
    "\n",
    "其实每个图片都由若干像素点构成，每个像素点存储了该位置的颜色，其实还隐藏存储了另一个信息，就是位置。每一个像素点都有一对索引元组，例如（1，1）就是第一行第一列的像素点，如果写作（1，1，255），就是说第一行第一列的像素点是黑色，以此类推，也就是这样一个矩阵就完整的记录着图片的所有信息\n"
   ]
  },
  {
   "cell_type": "markdown",
   "metadata": {
    "slideshow": {
     "slide_type": "slide"
    }
   },
   "source": [
    "![](https://cdn-images-1.medium.com/max/1600/1*HPbsBA5BJovt-vrbF1C7Jg.png)"
   ]
  },
  {
   "cell_type": "markdown",
   "metadata": {
    "slideshow": {
     "slide_type": "slide"
    }
   },
   "source": [
    "# 卷积 （Convolution）\n",
    "\n",
    "白话解释一下啥叫卷积，很形象，就是“卷”，你假象一下，你把擦脸毛巾卷起来，成为一个圆柱体的卷，就是这个意思，抽象的说，就是将原来的对象变小一些，但又能保证原来图像中的信息尽量多的保留下来\n",
    "\n",
    "![](img/conv.gif)"
   ]
  },
  {
   "cell_type": "markdown",
   "metadata": {
    "slideshow": {
     "slide_type": "slide"
    }
   },
   "source": [
    "## 卷积核 & 滤波器 (kernel & filter)\n",
    "\n",
    "![](https://cdn-images-1.medium.com/max/1600/1*TAo3aselJNVwrLLr654Myg.gif)"
   ]
  },
  {
   "cell_type": "markdown",
   "metadata": {
    "slideshow": {
     "slide_type": "slide"
    }
   },
   "source": [
    "将图片的每个部分与滤波器进行矩阵运算，并将运算的值进行加总，形成新的特征图\n",
    "\n",
    "![](https://cdn-images-1.medium.com/max/1600/1*32zCSTBi3giSApz1oQV-zA.gif)"
   ]
  },
  {
   "cell_type": "markdown",
   "metadata": {
    "slideshow": {
     "slide_type": "slide"
    }
   },
   "source": [
    "我们可以添加多个卷积核，比如3个卷积核，可以学习3种不同的特征。 **卷积核需要与图像的通道数一致，当使用多卷积核时，其结果会堆叠在一起形成新的通道**\n",
    "\n",
    "![](https://cdn-images-1.medium.com/max/1600/1*Ukb2msCjU3G5eS4a45f-lg.png)"
   ]
  },
  {
   "cell_type": "markdown",
   "metadata": {
    "slideshow": {
     "slide_type": "slide"
    }
   },
   "source": [
    "# 跳跃 (Strid)\n",
    "\n",
    "![](https://cdn-images-1.medium.com/max/1600/1*itcofCIVsGe7rBmciJcmVw.gif)"
   ]
  },
  {
   "cell_type": "markdown",
   "metadata": {
    "slideshow": {
     "slide_type": "slide"
    }
   },
   "source": [
    "# 池化 (max-pooling)\n",
    "\n",
    "池化层的作用是对图像进行降采样，如下图将 4x4的图片降采样为 2x2\n",
    "\n",
    "![](https://4.bp.blogspot.com/-HCaeeLJ9PSI/WVpEpg-qWiI/AAAAAAAAWxM/v4Qg8BAHuxAaC9Eoe2JZWY8jdt_vyCy8gCLcBGAs/s1600/3591_2.PNG)"
   ]
  },
  {
   "cell_type": "markdown",
   "metadata": {
    "slideshow": {
     "slide_type": "slide"
    }
   },
   "source": [
    "经过降采样虽然丢失了部分信息，但是依然保留了关键特征，方便网络更高效的计算\n",
    "\n",
    "![](https://cloud.netlifyusercontent.com/assets/344dbf88-fdf9-42bb-adb4-46f01eedd629/b0a23aa8-e08a-44d2-8e59-c703cd485753/13-progressive-jpeg.gif)"
   ]
  },
  {
   "cell_type": "markdown",
   "metadata": {
    "slideshow": {
     "slide_type": "slide"
    }
   },
   "source": [
    "# Mnist 大师版\n",
    "\n",
    "![](https://2.bp.blogspot.com/-lo4ANmafiQM/WVpEeo68VPI/AAAAAAAAWxE/7FJBUGp-GrQFL5fUYEg6tQAJWXUHrtgWgCLcBGAs/s1600/3812_1.png)"
   ]
  },
  {
   "cell_type": "code",
   "execution_count": 1,
   "metadata": {
    "ExecuteTime": {
     "end_time": "2019-04-24T08:34:32.698274Z",
     "start_time": "2019-04-24T08:34:22.305474Z"
    }
   },
   "outputs": [
    {
     "name": "stderr",
     "output_type": "stream",
     "text": [
      "Using TensorFlow backend.\n"
     ]
    }
   ],
   "source": [
    "from keras.datasets import mnist  \n",
    "from keras.utils import np_utils  \n",
    "import numpy as np\n",
    "\n",
    "np.random.seed(10)  \n",
    "  \n",
    "# 读取minst数据 \n",
    "(X_Train, y_Train), (X_Test, y_Test) = mnist.load_data()  \n",
    "  \n",
    "# 将数据转为4维(黑白图像只有灰度通道，所以最后一位是1)\n",
    "X_Train4D = X_Train.reshape(X_Train.shape[0], 28, 28, 1).astype('float32')  \n",
    "X_Test4D = X_Test.reshape(X_Test.shape[0], 28, 28, 1).astype('float32')"
   ]
  },
  {
   "cell_type": "code",
   "execution_count": 2,
   "metadata": {
    "ExecuteTime": {
     "end_time": "2019-04-24T08:34:52.883050Z",
     "start_time": "2019-04-24T08:34:52.741040Z"
    }
   },
   "outputs": [],
   "source": [
    "# 特征归一化\n",
    "X_Train4D_norm = X_Train4D / 255  \n",
    "X_Test4D_norm = X_Test4D /255  \n",
    "  \n",
    "# 标签one_hot化 \n",
    "y_TrainOneHot = np_utils.to_categorical(y_Train)\n",
    "y_TestOneHot = np_utils.to_categorical(y_Test)"
   ]
  },
  {
   "cell_type": "code",
   "execution_count": 6,
   "metadata": {
    "ExecuteTime": {
     "end_time": "2019-04-24T08:39:29.132963Z",
     "start_time": "2019-04-24T08:39:29.069466Z"
    }
   },
   "outputs": [],
   "source": [
    "from keras.models import Sequential  \n",
    "from keras.layers import Dense,Dropout,Flatten,Conv2D,MaxPool2D \n",
    "\n",
    "model = Sequential()  \n",
    "# Create CN layer 1  \n",
    "model.add(Conv2D(filters=,  \n",
    "                 kernel_size=(,),  \n",
    "                 padding='same',  \n",
    "                 input_shape=(,,),  \n",
    "                 activation='relu',\n",
    "                 name='conv2d_1')) \n",
    "# Create Max-Pool 1  \n",
    "model.add(MaxPool2D(pool_size=(,), name='max_pooling2d_1'))  \n",
    "  \n",
    "# Create CN layer 2  \n",
    "model.add(Conv2D(filters=,  \n",
    "                 kernel_size=(,),  \n",
    "                 padding='same',  \n",
    "                 activation='relu',\n",
    "                 name='conv2d_2'))  \n",
    "  \n",
    "# Create Max-Pool 2  \n",
    "model.add(MaxPool2D(pool_size=(,), name='max_pooling2d_2'))  \n",
    "  \n",
    "# Add Dropout layer  \n",
    "model.add(Dropout(0.25, name='dropout_1'))"
   ]
  },
  {
   "cell_type": "code",
   "execution_count": 7,
   "metadata": {
    "ExecuteTime": {
     "end_time": "2019-04-24T08:39:32.343728Z",
     "start_time": "2019-04-24T08:39:32.208727Z"
    }
   },
   "outputs": [],
   "source": [
    "# 最后将模型展平，并加上全连接层\n",
    "model.add(Flatten(name='flatten_1'))\n",
    "model.add(Dense(128, activation='relu', name='dense_1'))  \n",
    "model.add(Dropout(0.5, name='dropout_2'))\n",
    "model.add(Dense(10, activation='softmax', name='dense_2'))"
   ]
  },
  {
   "cell_type": "code",
   "execution_count": 8,
   "metadata": {
    "ExecuteTime": {
     "end_time": "2019-04-24T08:39:32.655397Z",
     "start_time": "2019-04-24T08:39:32.650399Z"
    }
   },
   "outputs": [
    {
     "name": "stdout",
     "output_type": "stream",
     "text": [
      "_________________________________________________________________\n",
      "Layer (type)                 Output Shape              Param #   \n",
      "=================================================================\n",
      "conv2d_1 (Conv2D)            (None, 28, 28, 16)        416       \n",
      "_________________________________________________________________\n",
      "max_pooling2d_1 (MaxPooling2 (None, 14, 14, 16)        0         \n",
      "_________________________________________________________________\n",
      "conv2d_2 (Conv2D)            (None, 14, 14, 36)        14436     \n",
      "_________________________________________________________________\n",
      "max_pooling2d_2 (MaxPooling2 (None, 7, 7, 36)          0         \n",
      "_________________________________________________________________\n",
      "dropout_1 (Dropout)          (None, 7, 7, 36)          0         \n",
      "_________________________________________________________________\n",
      "flatten_1 (Flatten)          (None, 1764)              0         \n",
      "_________________________________________________________________\n",
      "dense_1 (Dense)              (None, 128)               225920    \n",
      "_________________________________________________________________\n",
      "dropout_2 (Dropout)          (None, 128)               0         \n",
      "_________________________________________________________________\n",
      "dense_2 (Dense)              (None, 10)                1290      \n",
      "=================================================================\n",
      "Total params: 242,062\n",
      "Trainable params: 242,062\n",
      "Non-trainable params: 0\n",
      "_________________________________________________________________\n"
     ]
    }
   ],
   "source": [
    "model.summary()  "
   ]
  },
  {
   "cell_type": "code",
   "execution_count": 9,
   "metadata": {
    "ExecuteTime": {
     "end_time": "2019-04-24T08:40:55.882788Z",
     "start_time": "2019-04-24T08:40:21.906408Z"
    }
   },
   "outputs": [
    {
     "name": "stdout",
     "output_type": "stream",
     "text": [
      "Train on 48000 samples, validate on 12000 samples\n",
      "Epoch 1/10\n",
      "48000/48000 [==============================] - 12s 240us/step - loss: 0.4840 - acc: 0.8488 - val_loss: 0.1036 - val_acc: 0.9696\n",
      "Epoch 2/10\n",
      "48000/48000 [==============================] - 2s 50us/step - loss: 0.1363 - acc: 0.9601 - val_loss: 0.0666 - val_acc: 0.9791\n",
      "Epoch 3/10\n",
      "48000/48000 [==============================] - 2s 50us/step - loss: 0.0990 - acc: 0.9699 - val_loss: 0.0527 - val_acc: 0.9838\n",
      "Epoch 4/10\n",
      "48000/48000 [==============================] - 2s 50us/step - loss: 0.0788 - acc: 0.9766 - val_loss: 0.0464 - val_acc: 0.9859\n",
      "Epoch 5/10\n",
      "48000/48000 [==============================] - 2s 50us/step - loss: 0.0681 - acc: 0.9789 - val_loss: 0.0412 - val_acc: 0.9870\n",
      "Epoch 6/10\n",
      "48000/48000 [==============================] - 2s 50us/step - loss: 0.0613 - acc: 0.9819 - val_loss: 0.0387 - val_acc: 0.9893\n",
      "Epoch 7/10\n",
      "48000/48000 [==============================] - 2s 50us/step - loss: 0.0533 - acc: 0.9839 - val_loss: 0.0344 - val_acc: 0.9893\n",
      "Epoch 8/10\n",
      "48000/48000 [==============================] - 2s 50us/step - loss: 0.0500 - acc: 0.9850 - val_loss: 0.0352 - val_acc: 0.9891\n",
      "Epoch 9/10\n",
      "48000/48000 [==============================] - 2s 50us/step - loss: 0.0439 - acc: 0.9868 - val_loss: 0.0334 - val_acc: 0.9896\n",
      "Epoch 10/10\n",
      "48000/48000 [==============================] - 2s 50us/step - loss: 0.0399 - acc: 0.9875 - val_loss: 0.0347 - val_acc: 0.9899\n"
     ]
    }
   ],
   "source": [
    "# 编译模型\n",
    "model.compile(loss='categorical_crossentropy', optimizer='adam', metrics=['accuracy'])  \n",
    "  \n",
    "# 训练 \n",
    "train_history = model.fit(x=X_Train4D_norm,  \n",
    "                          y=y_TrainOneHot, validation_split=0.2,  \n",
    "                          epochs=10, batch_size=300, verbose=1)"
   ]
  }
 ],
 "metadata": {
  "celltoolbar": "幻灯片",
  "kernelspec": {
   "display_name": "Python 3",
   "language": "python",
   "name": "python3"
  },
  "language_info": {
   "codemirror_mode": {
    "name": "ipython",
    "version": 3
   },
   "file_extension": ".py",
   "mimetype": "text/x-python",
   "name": "python",
   "nbconvert_exporter": "python",
   "pygments_lexer": "ipython3",
   "version": "3.6.7"
  }
 },
 "nbformat": 4,
 "nbformat_minor": 2
}
